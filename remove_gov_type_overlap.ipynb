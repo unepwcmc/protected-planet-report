{
 "cells": [
  {
   "cell_type": "code",
   "execution_count": 23,
   "metadata": {},
   "outputs": [
    {
     "name": "stdout",
     "output_type": "stream",
     "text": [
      "repair complete\n",
      "repair complete\n"
     ]
    }
   ],
   "source": [
    "import arcpy\n",
    "## stop outputs being added to the map\n",
    "arcpy.env.addOutputsToMap = False\n",
    "\n",
    "#### dissolve by GOV_TYPE\n",
    "wdpa24 = 'O:/PP2024/test.gdb/wdpa_gov_type_test'\n",
    "wdpa22 = 'O:/PP2024/test.gdb/wdpa_gov_type_test_1'\n",
    "\n",
    "datasets = [wdpa24, wdpa22]\n",
    "\n",
    "outputs = ['O:/PP2024/test_output.gdb/wdpa_gov_type_test_diss',\n",
    "          'O:/PP2024/test_output.gdb/wdpa_gov_type_test_1_diss'\n",
    "         ]\n",
    "\n",
    "for dataset, output in zip(datasets, outputs):\n",
    "    arcpy.analysis.PairwiseDissolve(\n",
    "        in_features = dataset, \n",
    "        out_feature_class = output, \n",
    "        dissolve_field = \"GOV_TYPE\", \n",
    "        multi_part = \"SINGLE_PART\"\n",
    "    )\n",
    "\n",
    "for i in outputs:\n",
    "    arcpy.management.RepairGeometry(i, \"DELETE_NULL\", \"OGC\")\n",
    "    print(\"repair complete\")"
   ]
  },
  {
   "cell_type": "code",
   "execution_count": 1,
   "metadata": {},
   "outputs": [
    {
     "name": "stdout",
     "output_type": "stream",
     "text": [
      "repair complete\n",
      "repair complete\n",
      "repair complete\n",
      "repair complete\n",
      "repair complete\n",
      "repair complete\n"
     ]
    }
   ],
   "source": [
    "### union with itself to identify overlapping GOV TYPES\n",
    "datasets = ['O:/PP2024/gov_type.gdb/wdpa_poly_point_public_restricted_basemap_intersect_statusyr2024_Aug2024_GOV_TYPE',\n",
    "            'O:/PP2024/gov_type.gdb/wdpa_poly_point_public_restricted_basemap_intersect_statusyr2022_Aug2024_GOV_TYPE',\n",
    "            'O:/PP2024/gov_type.gdb/wdpa_poly_point_public_restricted_basemap_intersect_statusyr2020_Aug2024_GOV_TYPE',\n",
    "            'O:/PP2024/gov_type.gdb/wdoecm_poly_point_basemap_intersect_statusyr2024_Aug2024_GOV_TYPE',\n",
    "            'O:/PP2024/gov_type.gdb/wdoecm_poly_point_basemap_intersect_statusyr2022_Aug2024_GOV_TYPE',\n",
    "            'O:/PP2024/gov_type.gdb/wdoecm_poly_point_basemap_intersect_statusyr2020_Aug2024_GOV_TYPE'\n",
    "           ]\n",
    "\n",
    "outputs = ['O:/PP2024/gov_type_flat.gdb/wdpa_poly_point_public_restricted_basemap_intersect_statusyr2024_Aug2024_GOV_TYPE_union',\n",
    "            'O:/PP2024/gov_type_flat.gdb/wdpa_poly_point_public_restricted_basemap_intersect_statusyr2022_Aug2024_GOV_TYPE_union',\n",
    "            'O:/PP2024/gov_type_flat.gdb/wdpa_poly_point_public_restricted_basemap_intersect_statusyr2020_Aug2024_GOV_TYPE_union',\n",
    "            'O:/PP2024/gov_type_flat.gdb/wdoecm_poly_point_basemap_intersect_statusyr2024_Aug2024_GOV_TYPE_union',\n",
    "            'O:/PP2024/gov_type_flat.gdb/wdoecm_poly_point_basemap_intersect_statusyr2022_Aug2024_GOV_TYPE_union',\n",
    "            'O:/PP2024/gov_type_flat.gdb/wdoecm_poly_point_basemap_intersect_statusyr2020_Aug2024_GOV_TYPE_union'\n",
    "           ]\n",
    "\n",
    "for dataset, output in zip(datasets, outputs):\n",
    "    arcpy.analysis.Union(\n",
    "        in_features = dataset, \n",
    "        out_feature_class = output\n",
    "    )\n",
    "\n",
    "for i in outputs:\n",
    "    arcpy.management.RepairGeometry(i, \"DELETE_NULL\", \"OGC\")\n",
    "    print(\"repair complete\")"
   ]
  },
  {
   "cell_type": "code",
   "execution_count": 2,
   "metadata": {},
   "outputs": [],
   "source": [
    "## add centroids\n",
    "for i in outputs:\n",
    "     arcpy.management.CalculateGeometryAttributes(\n",
    "        in_features = i,\n",
    "        geometry_property = [[\"CENTROID_X\", \"CENTROID_X\"], [\"CENTROID_Y\", \"CENTROID_Y\"]]\n",
    "     )\n"
   ]
  },
  {
   "cell_type": "code",
   "execution_count": 3,
   "metadata": {},
   "outputs": [],
   "source": [
    "### add new field and sum x y centroids\n",
    "# Loop through each feature class\n",
    "for i in outputs:\n",
    "    # Add a new field for storing the sum of length and area\n",
    "    arcpy.AddField_management(i, \"XY\", \"FLOAT\")\n",
    "\n",
    "    # Calculate the sum of the length and area fields for each feature\n",
    "    with arcpy.da.UpdateCursor(i, [\"CENTROID_X\", \"CENTROID_Y\", \"XY\"]) as cursor:\n",
    "        for row in cursor:\n",
    "            # Calculate the sum\n",
    "            row[2] = row[0] + row[1]\n",
    "            # Update the row\n",
    "            cursor.updateRow(row)"
   ]
  },
  {
   "cell_type": "code",
   "execution_count": 4,
   "metadata": {},
   "outputs": [
    {
     "name": "stdout",
     "output_type": "stream",
     "text": [
      "Processing O:/PP2024/gov_type_flat.gdb/wdpa_poly_point_public_restricted_basemap_intersect_statusyr2024_Aug2024_GOV_TYPE_union...\n",
      "Finished updating O:/PP2024/gov_type_flat.gdb/wdpa_poly_point_public_restricted_basemap_intersect_statusyr2024_Aug2024_GOV_TYPE_union.\n",
      "Processing O:/PP2024/gov_type_flat.gdb/wdpa_poly_point_public_restricted_basemap_intersect_statusyr2022_Aug2024_GOV_TYPE_union...\n",
      "Finished updating O:/PP2024/gov_type_flat.gdb/wdpa_poly_point_public_restricted_basemap_intersect_statusyr2022_Aug2024_GOV_TYPE_union.\n",
      "Processing O:/PP2024/gov_type_flat.gdb/wdpa_poly_point_public_restricted_basemap_intersect_statusyr2020_Aug2024_GOV_TYPE_union...\n",
      "Finished updating O:/PP2024/gov_type_flat.gdb/wdpa_poly_point_public_restricted_basemap_intersect_statusyr2020_Aug2024_GOV_TYPE_union.\n",
      "Processing O:/PP2024/gov_type_flat.gdb/wdoecm_poly_point_basemap_intersect_statusyr2024_Aug2024_GOV_TYPE_union...\n",
      "Finished updating O:/PP2024/gov_type_flat.gdb/wdoecm_poly_point_basemap_intersect_statusyr2024_Aug2024_GOV_TYPE_union.\n",
      "Processing O:/PP2024/gov_type_flat.gdb/wdoecm_poly_point_basemap_intersect_statusyr2022_Aug2024_GOV_TYPE_union...\n",
      "Finished updating O:/PP2024/gov_type_flat.gdb/wdoecm_poly_point_basemap_intersect_statusyr2022_Aug2024_GOV_TYPE_union.\n",
      "Processing O:/PP2024/gov_type_flat.gdb/wdoecm_poly_point_basemap_intersect_statusyr2020_Aug2024_GOV_TYPE_union...\n",
      "Finished updating O:/PP2024/gov_type_flat.gdb/wdoecm_poly_point_basemap_intersect_statusyr2020_Aug2024_GOV_TYPE_union.\n",
      "Completed processing all feature classes.\n"
     ]
    }
   ],
   "source": [
    "### where XY value is duplicated, change gov type to Mixed\n",
    "# Loop through each feature class\n",
    "for fc in outputs:\n",
    "    print(f\"Processing {fc}...\")\n",
    "\n",
    "    # Dictionary to keep track of the count of each XY value\n",
    "    xy_dict = {}\n",
    "\n",
    "    # First pass: count occurrences of each XY value\n",
    "    with arcpy.da.SearchCursor(fc, [\"XY\"]) as search_cursor:\n",
    "        for row in search_cursor:\n",
    "            xy_value = row[0]\n",
    "            if xy_value in xy_dict:\n",
    "                xy_dict[xy_value] += 1\n",
    "            else:\n",
    "                xy_dict[xy_value] = 1\n",
    "\n",
    "    # Second pass: update GOV_TYPE where XY values are duplicated\n",
    "    with arcpy.da.UpdateCursor(fc, [\"XY\", \"GOV_TYPE\"]) as update_cursor:\n",
    "        for row in update_cursor:\n",
    "            xy_value = row[0]\n",
    "            if xy_dict[xy_value] > 1:  # If XY value is duplicated\n",
    "                row[1] = \"Mixed\"\n",
    "                update_cursor.updateRow(row)\n",
    "\n",
    "    print(f\"Finished updating {fc}.\")\n",
    "\n",
    "print(\"Completed processing all feature classes.\")"
   ]
  },
  {
   "cell_type": "code",
   "execution_count": 5,
   "metadata": {},
   "outputs": [],
   "source": [
    "### remove overlaps with identical XY value - this will leave a flat layer\n",
    "for i in outputs:\n",
    "    arcpy.management.DeleteIdentical(i, \"XY\")"
   ]
  },
  {
   "cell_type": "code",
   "execution_count": null,
   "metadata": {},
   "outputs": [],
   "source": []
  }
 ],
 "metadata": {
  "kernelspec": {
   "display_name": "ArcGISPro",
   "language": "Python",
   "name": "python3"
  },
  "language_info": {
   "file_extension": ".py",
   "name": "python",
   "version": "3"
  }
 },
 "nbformat": 4,
 "nbformat_minor": 2
}
