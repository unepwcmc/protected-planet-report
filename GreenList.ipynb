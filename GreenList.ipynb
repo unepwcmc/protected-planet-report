{
 "cells": [
  {
   "cell_type": "code",
   "execution_count": 6,
   "metadata": {},
   "outputs": [],
   "source": [
    "##### Code to calculate area of green list sites\n",
    "\n",
    "import arcpy\n",
    "import os\n",
    "\n",
    "# Paths to data\n",
    "wdpa_layer = r'O:/PP2024/WDPA_WDOECM_Poly_Point_Aug2024_Public_Processed.gdb/WDPA_WDOECM_Poly_Point_Aug2024_Public_Processed' #change path accordingly - I have put them locally \n",
    "green_list_table = r'O:/PP2024/GreenList/gl_outputs.gdb/WDPA_WDOECM_Aug2024_Public_greenlist_csv' #download latest csv file from \"Explore the World's Protected Areas (protectedplanet.net)\n",
    "output_gdb = r'O:/PP2024/GreenList/gl_outputs.gdb' #set output - check code chunk below to create manually/by code\n",
    "\n",
    "# Workspace\n",
    "#arcpy.env.workspace = gdb_path\n",
    "#arcpy.env.overwriteOutput = True\n",
    "\n",
    "#Add a 'green_list' field and set it to 1 to identify them\n",
    "arcpy.management.AddField(green_list_table, \"green_list\", \"SHORT\")\n",
    "arcpy.management.CalculateField(green_list_table, \"green_list\", 1)\n",
    "\n",
    "#Check if successful\n",
    "fields = arcpy.ListFields(green_list_table)\n",
    "\n",
    "# Print field names to check if 'green_list' was added\n",
    "for field in fields:\n",
    "    print(field.name)"
   ]
  },
  {
   "cell_type": "code",
   "execution_count": 15,
   "metadata": {},
   "outputs": [
    {
     "data": {
      "text/html": [
       "<div class='gpresult'><h2>Messages</h2><div id='messages'>Start Time: 21 August 2024 11:18:15<br>Succeeded at 21 August 2024 11:18:32 (Elapsed Time: 16.67 seconds)<br></div><div id = 'default' /></div></div>"
      ],
      "text/plain": [
       "<Result 'wdpa_lyr'>"
      ]
     },
     "execution_count": 15,
     "metadata": {},
     "output_type": "execute_result"
    }
   ],
   "source": [
    "# Create a feature layer from the WDPA feature class\n",
    "arcpy.management.MakeFeatureLayer(wdpa_layer, \"wdpa_lyr\")\n",
    "\n",
    "# Join the Green List to the WDPA layer using the WDPAID field\n",
    "arcpy.management.JoinField(\"wdpa_lyr\", \"WDPAID\", green_list_table, \"WDPAID\", [\"green_list\"])"
   ]
  },
  {
   "cell_type": "code",
   "execution_count": 16,
   "metadata": {},
   "outputs": [
    {
     "data": {
      "text/html": [
       "<div class='gpresult'><h2>Messages</h2><div id='messages'>Start Time: 21 August 2024 11:21:28<br>Succeeded at 21 August 2024 11:21:31 (Elapsed Time: 2.25 seconds)<br></div><div id = 'default' /></div></div>"
      ],
      "text/plain": [
       "<Result 'O:\\\\PP2024\\\\GreenList\\\\gl_outputs.gdb\\\\GreenList_2020'>"
      ]
     },
     "execution_count": 16,
     "metadata": {},
     "output_type": "execute_result"
    }
   ],
   "source": [
    "### make subsets for 2024, 2022 and 2020\n",
    "\n",
    "output_gdb = r'O:/PP2024/GreenList/gl_outputs.gdb' #set output - check code chunk below to create manually/by code\n",
    "\n",
    "# 2024 version\n",
    "selection_2024 = arcpy.management.SelectLayerByAttribute(\"wdpa_lyr\", \"NEW_SELECTION\", \"green_list = 1\")\n",
    "output_2024 = os.path.join(output_gdb, \"GreenList_2024\")\n",
    "arcpy.management.CopyFeatures(selection_2024, output_2024)\n",
    "\n",
    "# 2022 version\n",
    "selection_2022 = arcpy.management.SelectLayerByAttribute(\"wdpa_lyr\", \"NEW_SELECTION\", \"STATUS_YR <= 2022 AND green_list = 1\")\n",
    "output_2022 = os.path.join(output_gdb, \"GreenList_2022\")\n",
    "arcpy.management.CopyFeatures(selection_2022, output_2022)\n",
    "\n",
    "# 2020 version\n",
    "selection_2020 = arcpy.management.SelectLayerByAttribute(\"wdpa_lyr\", \"NEW_SELECTION\", \"STATUS_YR <= 2020 AND green_list = 1\")\n",
    "output_2020 = os.path.join(output_gdb, \"GreenList_2020\")\n",
    "arcpy.management.CopyFeatures(selection_2020, output_2020)"
   ]
  },
  {
   "cell_type": "code",
   "execution_count": 18,
   "metadata": {},
   "outputs": [],
   "source": [
    "#### disolve\n",
    "GreenList_2024 = 'O:/PP2024/GreenList/gl_outputs.gdb/GreenList_2024'\n",
    "GreenList_2022 = 'O:/PP2024/GreenList/gl_outputs.gdb/GreenList_2022'\n",
    "GreenList_2020 = 'O:/PP2024/GreenList/gl_outputs.gdb/GreenList_2020'\n",
    "\n",
    "wdpa_timeserise = [GreenList_2024, GreenList_2022, GreenList_2020]\n",
    "\n",
    "output_dissolve = ['O:/PP2024/GreenList/gl_outputs.gdb/GreenList_2024_diss',\n",
    "                   'O:/PP2024/GreenList/gl_outputs.gdb/GreenList_2022_diss',\n",
    "                   'O:/PP2024/GreenList/gl_outputs.gdb/GreenList_2020_diss']\n",
    "\n",
    "for wdpa_timeserise, output_dissolve in zip(wdpa_timeserise, output_dissolve):\n",
    "    arcpy.analysis.PairwiseDissolve(in_features = wdpa_timeserise,\n",
    "                                    out_feature_class = output_dissolve, \n",
    "                                    multi_part = \"SINGLE_PART\"\n",
    "                                   )\n"
   ]
  },
  {
   "cell_type": "code",
   "execution_count": 20,
   "metadata": {},
   "outputs": [
    {
     "name": "stdout",
     "output_type": "stream",
     "text": [
      "repair complete\n",
      "repair complete\n",
      "repair complete\n"
     ]
    }
   ],
   "source": [
    "### repair geometry\n",
    "GreenList_2024_diss = 'O:/PP2024/GreenList/gl_outputs.gdb/GreenList_2024_diss'\n",
    "GreenList_2022_diss = 'O:/PP2024/GreenList/gl_outputs.gdb/GreenList_2022_diss'\n",
    "GreenList_2020_diss = 'O:/PP2024/GreenList/gl_outputs.gdb/GreenList_2020_diss'\n",
    "\n",
    "wdpa_timeserise_diss = [GreenList_2024_diss, GreenList_2022_diss, GreenList_2020_diss]\n",
    "\n",
    "\n",
    "for i in wdpa_timeserise_diss:\n",
    "    arcpy.management.RepairGeometry(i, \"DELETE_NULL\", \"OGC\")\n",
    "    print(\"repair complete\")"
   ]
  },
  {
   "cell_type": "code",
   "execution_count": 21,
   "metadata": {},
   "outputs": [
    {
     "name": "stdout",
     "output_type": "stream",
     "text": [
      "Geometry calculated\n"
     ]
    }
   ],
   "source": [
    "## calculate area\n",
    "for i in wdpa_timeserise_diss:\n",
    "     arcpy.management.CalculateGeometryAttributes(\n",
    "        in_features = i,\n",
    "        geometry_property = [[\"area_km2\", \"AREA_GEODESIC\"]],\n",
    "        area_unit = \"SQUARE_KILOMETERS\",\n",
    "        coordinate_system = 54009\n",
    "     )\n",
    "\n",
    "print(\"Geometry calculated\")"
   ]
  },
  {
   "cell_type": "code",
   "execution_count": 24,
   "metadata": {},
   "outputs": [
    {
     "name": "stdout",
     "output_type": "stream",
     "text": [
      "statistics calculated\n"
     ]
    }
   ],
   "source": [
    "## summary stats to calculate PA coverage of each ecoregion and export csv\n",
    "output_tables = ['O:/PP2024/GreenList/output_tables/GreenList_2024.csv',\n",
    "                 'O:/PP2024/GreenList/output_tables/GreenList_2022.csv',\n",
    "                 'O:/PP2024/GreenList/output_tables/GreenList_2020.csv'\n",
    "                ]\n",
    "\n",
    "GreenList_2024_diss = 'O:/PP2024/GreenList/gl_outputs.gdb/GreenList_2024_diss'\n",
    "GreenList_2022_diss = 'O:/PP2024/GreenList/gl_outputs.gdb/GreenList_2022_diss'\n",
    "GreenList_2020_diss = 'O:/PP2024/GreenList/gl_outputs.gdb/GreenList_2020_diss'\n",
    "\n",
    "wdpa_timeserise_diss = [GreenList_2024_diss, GreenList_2022_diss, GreenList_2020_diss]\n",
    "\n",
    "\n",
    "for wdpa_timeserise_diss, output_tables in zip(wdpa_timeserise_diss, output_tables):\n",
    "    arcpy.analysis.Statistics(\n",
    "        in_table = wdpa_timeserise_diss, \n",
    "        out_table = output_tables, \n",
    "        statistics_fields = [[\"area_km2\", \"SUM\"]]\n",
    "    )\n",
    "\n",
    "print(\"statistics calculated\")"
   ]
  }
 ],
 "metadata": {
  "kernelspec": {
   "display_name": "ArcGISPro",
   "language": "Python",
   "name": "python3"
  },
  "language_info": {
   "file_extension": ".py",
   "name": "python",
   "version": "3"
  }
 },
 "nbformat": 4,
 "nbformat_minor": 2
}
