{
 "cells": [
  {
   "cell_type": "code",
   "execution_count": 1,
   "metadata": {},
   "outputs": [
    {
     "name": "stdout",
     "output_type": "stream",
     "text": [
      "646656\n",
      "638196\n",
      "625960\n",
      "54736\n",
      "52808\n",
      "40763\n"
     ]
    }
   ],
   "source": [
    "## script to calculate PA and OECM coverage of marine ecoregions, realms, biomes and provences\n",
    "## stop outputs being added to the map\n",
    "arcpy.env.addOutputsToMap = False\n",
    "\n",
    "# read in ecorgions and wdpa\n",
    "## these should be projected to Mollweide and geom repaired\n",
    "eco = 'O:/PP2024/ecoregion_test/pp24_test.gdb/WCMC_036_MEOW_PPOW_2007_2012_moll' ### need to add ID field\n",
    "wdpa24 = 'O:/PP2024/ecoregion_test/wdpa_aug24.gdb/wdpa_poly_point_public_restricted_basemap_intersect_statusyr2024_August2024_PA_DEF_moll'\n",
    "wdpa22 = 'O:/PP2024/ecoregion_test/wdpa_aug24.gdb/wdpa_poly_point_public_restricted_basemap_intersect_statusyr2022_August2024_PA_DEF_moll'\n",
    "wdpa20 = 'O:/PP2024/ecoregion_test/wdpa_aug24.gdb/wdpa_poly_point_public_restricted_basemap_intersect_statusyr2020_August2024_PA_DEF_moll'\n",
    "oecm24 = 'O:/PP2024/ecoregion_test/wdpa_aug24.gdb/wdoecm_poly_point_basemap_intersect_statusyr2024_August2024_PA_DEF_moll'\n",
    "oecm22 = 'O:/PP2024/ecoregion_test/wdpa_aug24.gdb/wdoecm_poly_point_basemap_intersect_statusyr2022_August2024_PA_DEF_moll'\n",
    "oecm20 = 'O:/PP2024/ecoregion_test/wdpa_aug24.gdb/wdoecm_poly_point_basemap_intersect_statusyr2020_August2024_PA_DEF_moll'\n",
    "\n",
    "wdpa_timeserise = [wdpa24, wdpa22, wdpa20, oecm24, oecm22, oecm20]\n",
    "\n",
    "## count features in each file read in to make sure correct files are being used\n",
    "for i in wdpa_timeserise:\n",
    "    count = arcpy.management.GetCount(i)\n",
    "    print(count)\n"
   ]
  },
  {
   "cell_type": "code",
   "execution_count": 2,
   "metadata": {},
   "outputs": [
    {
     "name": "stdout",
     "output_type": "stream",
     "text": [
      "intersect complete\n"
     ]
    }
   ],
   "source": [
    "## intersect wdpas with ecoregion\n",
    "\n",
    "output_intersects = ['O:/PP2024/ecoregion_test/test_outputs.gdb/wdpa24_meow_intersect',\n",
    "                    'O:/PP2024/ecoregion_test/test_outputs.gdb/wdpa22_meow_intersect',\n",
    "                    'O:/PP2024/ecoregion_test/test_outputs.gdb/wdpa20_meow_intersect',\n",
    "                     'O:/PP2024/ecoregion_test/test_outputs.gdb/oecm24_meow_intersect',\n",
    "                     'O:/PP2024/ecoregion_test/test_outputs.gdb/oecm22_meow_intersect',\n",
    "                     'O:/PP2024/ecoregion_test/test_outputs.gdb/oecm20_meow_intersect'\n",
    "                    ]\n",
    "\n",
    "for wdpa_timeserise, output_intersects in zip(wdpa_timeserise, output_intersects):\n",
    "    input_features = [eco, wdpa_timeserise]\n",
    "    eco_intersect = arcpy.analysis.PairwiseIntersect(input_features, output_intersects)\n",
    "    \n",
    "print(\"intersect complete\")"
   ]
  },
  {
   "cell_type": "code",
   "execution_count": 3,
   "metadata": {},
   "outputs": [
    {
     "name": "stdout",
     "output_type": "stream",
     "text": [
      "repair complete\n",
      "repair complete\n",
      "repair complete\n",
      "repair complete\n",
      "repair complete\n",
      "repair complete\n"
     ]
    }
   ],
   "source": [
    "## repair geometry of intersected layers \n",
    "wdpa24_intersect = 'O:/PP2024/ecoregion_test/test_outputs.gdb/wdpa24_meow_intersect'\n",
    "wdpa22_intersect = 'O:/PP2024/ecoregion_test/test_outputs.gdb/wdpa22_meow_intersect'\n",
    "wdpa20_intersect = 'O:/PP2024/ecoregion_test/test_outputs.gdb/wdpa20_meow_intersect'\n",
    "oecm24_intersect = 'O:/PP2024/ecoregion_test/test_outputs.gdb/oecm24_meow_intersect'\n",
    "oecm22_intersect = 'O:/PP2024/ecoregion_test/test_outputs.gdb/oecm22_meow_intersect'\n",
    "oecm20_intersect = 'O:/PP2024/ecoregion_test/test_outputs.gdb/oecm20_meow_intersect'\n",
    "\n",
    "eco_intersects = [wdpa24_intersect, wdpa22_intersect, wdpa20_intersect, oecm24_intersect, oecm22_intersect, oecm20_intersect]\n",
    "\n",
    "for i in eco_intersects:\n",
    "    arcpy.management.RepairGeometry(i, \"DELETE_NULL\", \"OGC\")\n",
    "    print(\"repair complete\")"
   ]
  },
  {
   "cell_type": "code",
   "execution_count": 4,
   "metadata": {},
   "outputs": [
    {
     "name": "stdout",
     "output_type": "stream",
     "text": [
      "Geometry calculated\n"
     ]
    }
   ],
   "source": [
    "## calculate area\n",
    "for i in eco_intersects:\n",
    "     arcpy.management.CalculateGeometryAttributes(\n",
    "        in_features = i,\n",
    "        geometry_property = [[\"area_km2\", \"AREA\"]],\n",
    "        area_unit = \"SQUARE_KILOMETERS\" \n",
    "     )\n",
    "\n",
    "print(\"Geometry calculated\")"
   ]
  },
  {
   "cell_type": "code",
   "execution_count": 5,
   "metadata": {},
   "outputs": [
    {
     "name": "stdout",
     "output_type": "stream",
     "text": [
      "statistics calculated\n"
     ]
    }
   ],
   "source": [
    "## calculate PA coverage of each ecoregion\n",
    "output_tables = ['O:/PP2024/ecoregion_test/output_tables/wdpa24_meow_intersect.csv',\n",
    "                    'O:/PP2024/ecoregion_test/output_tables/wdpa22_meow_intersect.csv',\n",
    "                    'O:/PP2024/ecoregion_test/output_tables/wdpa20_meow_intersect.csv',\n",
    "                 'O:/PP2024/ecoregion_test/output_tables/oecm24_meow_intersect.csv',\n",
    "                    'O:/PP2024/ecoregion_test/output_tables/oecm22_meow_intersect.csv',\n",
    "                    'O:/PP2024/ecoregion_test/output_tables/oecm20_meow_intersect.csv'\n",
    "                ]\n",
    "\n",
    "for eco_intersects, output_tables in zip(eco_intersects, output_tables):\n",
    "    arcpy.analysis.Statistics(\n",
    "        in_table = eco_intersects, \n",
    "        out_table = output_tables, \n",
    "        statistics_fields = [[\"area_km2\", \"SUM\"]], \n",
    "        case_field = [\"ID\", \"TYPE\", \"ECOREGION\", \"REALM\", \"PROVINC\", \"BIOME\"]\n",
    "    )\n",
    "\n",
    "print(\"statistics calculated\")"
   ]
  }
 ],
 "metadata": {
  "kernelspec": {
   "display_name": "ArcGISPro",
   "language": "Python",
   "name": "python3"
  },
  "language_info": {
   "file_extension": ".py",
   "name": "python",
   "version": "3"
  }
 },
 "nbformat": 4,
 "nbformat_minor": 2
}
