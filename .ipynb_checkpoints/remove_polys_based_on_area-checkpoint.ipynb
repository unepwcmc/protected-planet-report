{
 "cells": [
  {
   "cell_type": "code",
   "execution_count": 14,
   "metadata": {},
   "outputs": [
    {
     "name": "stdout",
     "output_type": "stream",
     "text": [
      "Exported O:/PP2024/ecoregion_test/wdpa_aug24_gte_2km.gdb\\wdpa_poly_point_public_restricted_basemap_intersect_statusyr2020_August2024_PA_DEF_moll_gte_5km with polygons larger than x km².\n",
      "Exported O:/PP2024/ecoregion_test/wdpa_aug24_gte_2km.gdb\\wdpa_poly_point_public_restricted_basemap_intersect_statusyr2022_August2024_PA_DEF_moll_gte_5km with polygons larger than x km².\n",
      "Exported O:/PP2024/ecoregion_test/wdpa_aug24_gte_2km.gdb\\wdpa_poly_point_public_restricted_basemap_intersect_statusyr2024_August2024_PA_DEF_moll_gte_5km with polygons larger than x km².\n",
      "Exported O:/PP2024/ecoregion_test/wdpa_aug24_gte_2km.gdb\\wdoecm_poly_point_basemap_intersect_statusyr2020_August2024_PA_DEF_moll_gte_5km with polygons larger than x km².\n",
      "Exported O:/PP2024/ecoregion_test/wdpa_aug24_gte_2km.gdb\\wdoecm_poly_point_basemap_intersect_statusyr2022_August2024_PA_DEF_moll_gte_5km with polygons larger than x km².\n",
      "Exported O:/PP2024/ecoregion_test/wdpa_aug24_gte_2km.gdb\\wdoecm_poly_point_basemap_intersect_statusyr2024_August2024_PA_DEF_moll_gte_5km with polygons larger than x km².\n",
      "Finished exporting all feature classes.\n"
     ]
    }
   ],
   "source": [
    "### remove PAs under a certain size. ALL PA FILES MUST BE OPEN IN THE MAP\n",
    "\n",
    "import arcpy\n",
    "import os\n",
    "\n",
    "## stop outputs being added to the map\n",
    "arcpy.env.addOutputsToMap = False\n",
    "\n",
    "# Set the workspace to your geodatabase\n",
    "arcpy.env.workspace = \"O:/PP2024/wdpa_Aug2024_v2.gdb\"\n",
    "\n",
    "# Define the output folder for the new feature classes\n",
    "output_folder = \"O:/PP2024/ecoregion_test/wdpa_aug24_gte_5km.gdb\"\n",
    "\n",
    "# Ensure the output folder exists\n",
    "if not os.path.exists(output_folder):\n",
    "    os.makedirs(output_folder)\n",
    "\n",
    "# List all feature classes in the workspace\n",
    "feature_classes = arcpy.ListFeatureClasses()\n",
    "\n",
    "# Loop through each feature class\n",
    "for fc in feature_classes:\n",
    "    # Define the SQL query to select polygons with an area greater than 1 km²\n",
    "    # Assuming the area field is named 'AREA'\n",
    "    query = '\"area_km2\" >= 5'  \n",
    "\n",
    "    # Define the output feature class name and path\n",
    "    output_fc_name = fc + \"_gte_5km\"\n",
    "    output_fc_path = os.path.join(output_folder, output_fc_name)\n",
    "\n",
    "    # Apply the SQL query and export the selected features to a new feature class\n",
    "    arcpy.management.SelectLayerByAttribute(fc, \"NEW_SELECTION\", query)\n",
    "    arcpy.management.CopyFeatures(fc, output_fc_path)\n",
    "\n",
    "    print(f\"Exported {output_fc_path} with polygons larger than x km².\")\n",
    "\n",
    "print(\"Finished exporting all feature classes.\")"
   ]
  }
 ],
 "metadata": {
  "kernelspec": {
   "display_name": "ArcGISPro",
   "language": "Python",
   "name": "python3"
  },
  "language_info": {
   "file_extension": ".py",
   "name": "python",
   "version": "3"
  }
 },
 "nbformat": 4,
 "nbformat_minor": 2
}
