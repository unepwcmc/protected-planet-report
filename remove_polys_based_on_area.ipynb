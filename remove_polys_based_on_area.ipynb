{
 "cells": [
  {
   "cell_type": "code",
   "execution_count": 4,
   "metadata": {},
   "outputs": [
    {
     "ename": "ExecuteError",
     "evalue": "ERROR 160144: An expected Field was not found or could not be retrieved properly.\nFailed to execute (SelectLayerByAttribute).\n",
     "output_type": "error",
     "traceback": [
      "\u001b[0;31m---------------------------------------------------------------------------\u001b[0m\n\u001b[0;31mExecuteError\u001b[0m                              Traceback (most recent call last)",
      "In  \u001b[0;34m[4]\u001b[0m:\nLine \u001b[0;34m33\u001b[0m:    arcpy.management.SelectLayerByAttribute(fc, \u001b[33m\"\u001b[39;49;00m\u001b[33mNEW_SELECTION\u001b[39;49;00m\u001b[33m\"\u001b[39;49;00m, query)\u001b[37m\u001b[39;49;00m\n",
      "File \u001b[0;34mC:\\Program Files\\ArcGIS\\Pro\\Resources\\ArcPy\\arcpy\\management.py\u001b[0m, in \u001b[0;32mSelectLayerByAttribute\u001b[0m:\nLine \u001b[0;34m11228\u001b[0m: \u001b[34mraise\u001b[39;49;00m e\u001b[37m\u001b[39;49;00m\n",
      "File \u001b[0;34mC:\\Program Files\\ArcGIS\\Pro\\Resources\\ArcPy\\arcpy\\management.py\u001b[0m, in \u001b[0;32mSelectLayerByAttribute\u001b[0m:\nLine \u001b[0;34m11225\u001b[0m: retval = convertArcObjectToPythonObject(gp.SelectLayerByAttribute_management(*gp_fixargs((in_layer_or_view, selection_type, where_clause, invert_where_clause), \u001b[34mTrue\u001b[39;49;00m)))\u001b[37m\u001b[39;49;00m\n",
      "File \u001b[0;34mC:\\Program Files\\ArcGIS\\Pro\\Resources\\ArcPy\\arcpy\\geoprocessing\\_base.py\u001b[0m, in \u001b[0;32m<lambda>\u001b[0m:\nLine \u001b[0;34m512\u001b[0m:   \u001b[34mreturn\u001b[39;49;00m \u001b[34mlambda\u001b[39;49;00m *args: val(*gp_fixargs(args, \u001b[34mTrue\u001b[39;49;00m))\u001b[37m\u001b[39;49;00m\n",
      "\u001b[0;31mExecuteError\u001b[0m: ERROR 160144: An expected Field was not found or could not be retrieved properly.\nFailed to execute (SelectLayerByAttribute).\n\n\u001b[0;31m---------------------------------------------------------------------------\u001b[0m"
     ]
    }
   ],
   "source": [
    "### remove PAs under a certain size. ALL PA FILES MUST BE OPEN IN THE MAP\n",
    "\n",
    "import arcpy\n",
    "import os\n",
    "\n",
    "## stop outputs being added to the map\n",
    "arcpy.env.addOutputsToMap = False\n",
    "\n",
    "# Set the workspace to your geodatabase\n",
    "arcpy.env.workspace = \"O:/PP2024/wdoecm_Aug2024_v2.gdb\"\n",
    "\n",
    "# Define the output folder for the new feature classes\n",
    "output_folder = \"O:/PP2024/wdpa_wdoecm_Aug2024_v2_gte_417m.gdb\"\n",
    "\n",
    "# Ensure the output folder exists\n",
    "if not os.path.exists(output_folder):\n",
    "    os.makedirs(output_folder)\n",
    "\n",
    "# List all feature classes in the workspace\n",
    "feature_classes = arcpy.ListFeatureClasses()\n",
    "\n",
    "# Loop through each feature class\n",
    "for fc in feature_classes:\n",
    "    # Define the SQL query to select polygons with an area greater than 1 km²\n",
    "    # Assuming the area field is named 'AREA'\n",
    "    query = '\"area_km2\" >= 0.417'\n",
    "\n",
    "    # Define the output feature class name and path\n",
    "    output_fc_name = fc + \"_gte_417m\"\n",
    "    output_fc_path = os.path.join(output_folder, output_fc_name)\n",
    "\n",
    "    # Apply the SQL query and export the selected features to a new feature class\n",
    "    arcpy.management.SelectLayerByAttribute(fc, \"NEW_SELECTION\", query)\n",
    "    arcpy.management.CopyFeatures(fc, output_fc_path)\n",
    "\n",
    "    print(f\"Exported {output_fc_path} with polygons larger than x km².\")\n",
    "\n",
    "print(\"Finished exporting all feature classes.\")"
   ]
  }
 ],
 "metadata": {
  "kernelspec": {
   "display_name": "ArcGISPro",
   "language": "Python",
   "name": "python3"
  },
  "language_info": {
   "file_extension": ".py",
   "name": "python",
   "version": "3"
  }
 },
 "nbformat": 4,
 "nbformat_minor": 2
}
